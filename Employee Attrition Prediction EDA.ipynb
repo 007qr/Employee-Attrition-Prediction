{
 "cells": [
  {
   "cell_type": "markdown",
   "id": "554c3300-a05c-4068-8432-b7171fbb4167",
   "metadata": {
    "jp-MarkdownHeadingCollapsed": true
   },
   "source": [
    "#### styles"
   ]
  },
  {
   "cell_type": "code",
   "execution_count": null,
   "id": "97e62689-28d1-4f1e-902e-51d5a79bd41f",
   "metadata": {},
   "outputs": [],
   "source": [
    "%%html\n",
    "<style>\n",
    "\n",
    "    h1{\n",
    "        font-weight: 700 !important;\n",
    "    }\n",
    "    .jp-MarkdownOutput h1,.jp-MarkdownOutput h2,.jp-MarkdownOutput h3,.jp-MarkdownOutput h4,.jp-MarkdownOutput h5,.jp-MarkdownOutput h6 {\n",
    "        font-weight: 800 !important;\n",
    "        color: #2563eb;\n",
    "        width: max-content;\n",
    "        border-bottom: 4px solid #38bdf8;\n",
    "    }\n",
    "</style>"
   ]
  },
  {
   "cell_type": "markdown",
   "id": "8e9ae614-3e7c-4379-9da1-0c6c50b81977",
   "metadata": {
    "jp-MarkdownHeadingCollapsed": true
   },
   "source": [
    "# IMPORTING LIBRARIES"
   ]
  },
  {
   "cell_type": "code",
   "execution_count": null,
   "id": "859e9e4e-052c-439f-9abe-fccf3bb2335f",
   "metadata": {},
   "outputs": [],
   "source": [
    "import pandas as pd\n",
    "import matplotlib.pyplot as plt\n",
    "import seaborn as sns\n",
    "import numpy as np"
   ]
  },
  {
   "cell_type": "code",
   "execution_count": null,
   "id": "b4f62541-3c8e-433b-a6c6-96ac8b57a152",
   "metadata": {},
   "outputs": [],
   "source": [
    "df = pd.read_csv('./dataset.csv')\n",
    "df.shape"
   ]
  },
  {
   "cell_type": "code",
   "execution_count": null,
   "id": "e9cb5098-6660-4a84-8d19-2740e3de9737",
   "metadata": {},
   "outputs": [],
   "source": [
    "df.info()"
   ]
  },
  {
   "cell_type": "markdown",
   "id": "49901bd1-ad8a-4875-895d-f995e9298296",
   "metadata": {
    "jp-MarkdownHeadingCollapsed": true
   },
   "source": [
    "# EDA"
   ]
  },
  {
   "cell_type": "code",
   "execution_count": null,
   "id": "ab72b9b2-80aa-452b-be82-d138ac499214",
   "metadata": {},
   "outputs": [],
   "source": [
    "fig, ax = plt.subplots(figsize=(20, 10))\n",
    "new_df = df.drop(['EmployeeCount', 'StandardHours'], axis=1)\n",
    "sns.heatmap(new_df.corr(), ax=ax, annot=True, cmap='GnBu')"
   ]
  },
  {
   "cell_type": "code",
   "execution_count": null,
   "id": "6e0a2633-aeb2-4bb9-9484-32bdb5cddf5c",
   "metadata": {},
   "outputs": [],
   "source": [
    "df.shape"
   ]
  },
  {
   "cell_type": "code",
   "execution_count": null,
   "id": "c796edc8-8fc3-44da-8319-81b3be388af7",
   "metadata": {},
   "outputs": [],
   "source": [
    "df.describe(include='object')"
   ]
  },
  {
   "cell_type": "markdown",
   "id": "fde500db-c486-4cb7-9b0f-b880aff582b7",
   "metadata": {},
   "source": [
    "`Most of the values in attrition column are No` <br>\n",
    "`All the employees are Over 18`"
   ]
  },
  {
   "cell_type": "code",
   "execution_count": null,
   "id": "bc33db14-953f-428e-9fda-7067b7728055",
   "metadata": {},
   "outputs": [],
   "source": [
    "df.isna().sum().sum() # Null Values"
   ]
  },
  {
   "cell_type": "code",
   "execution_count": null,
   "id": "ac370315-ec0f-49e3-a7e5-cb68bea515e9",
   "metadata": {},
   "outputs": [],
   "source": [
    "df.duplicated().sum() "
   ]
  },
  {
   "cell_type": "code",
   "execution_count": null,
   "id": "2c00c64f-06bd-4325-a5ec-f58d25bd17c3",
   "metadata": {},
   "outputs": [],
   "source": [
    "df['Age'].mean()\n",
    "df['Age'].plot.hist(edgecolor='black', color='#60a5fa')"
   ]
  },
  {
   "cell_type": "markdown",
   "id": "ad57d8f5-2eb9-4d7f-9f59-6d1de888811c",
   "metadata": {},
   "source": [
    "`More employees are between age 30-40`"
   ]
  },
  {
   "cell_type": "markdown",
   "id": "dc955a6b-fe40-4315-9a68-448fbecc5eb8",
   "metadata": {},
   "source": [
    "`Average Age is round 37`"
   ]
  },
  {
   "cell_type": "code",
   "execution_count": null,
   "id": "e60e450d-4684-4cf2-b016-aab96221b979",
   "metadata": {},
   "outputs": [],
   "source": [
    "df['Attrition'].value_counts().plot.pie(explode=[0, 0.1], wedgeprops={'edgecolor': 'black', 'linestyle':'dashed'}, autopct=\"%1.2f%%\", cmap='GnBu')"
   ]
  },
  {
   "cell_type": "markdown",
   "id": "cd78edf6-a876-4e35-84e2-0f231001a1d1",
   "metadata": {},
   "source": [
    "`Data is imbalanced`"
   ]
  },
  {
   "cell_type": "code",
   "execution_count": null,
   "id": "b8f967da-87a4-47be-891b-8fdbbe6e63f7",
   "metadata": {},
   "outputs": [],
   "source": [
    "df['Gender'].value_counts().plot.pie(explode=[0, 0.1], wedgeprops={'edgecolor': 'black', 'linestyle':'dashed'}, figsize=(16, 6), autopct=\"%1.2f%%\", cmap='GnBu')\n",
    "plt.legend()\n",
    "plt.show()"
   ]
  },
  {
   "cell_type": "code",
   "execution_count": null,
   "id": "6f93c952-cf40-4cbe-84a2-5164c2236f43",
   "metadata": {},
   "outputs": [],
   "source": [
    "df['MaritalStatus'].value_counts().plot.pie(wedgeprops={'edgecolor': 'black', 'linestyle':'dashed'}, figsize=(16, 6), autopct=\"%1.2f%%\", cmap='GnBu')\n",
    "plt.legend()\n",
    "plt.show()"
   ]
  },
  {
   "cell_type": "code",
   "execution_count": null,
   "id": "555b7b94-67dc-46ef-bf49-746e0872f528",
   "metadata": {},
   "outputs": [],
   "source": [
    "df['EducationField'].value_counts().plot.pie(wedgeprops={'edgecolor': 'black', 'linestyle':'dashed'}, figsize=(16, 6), autopct=\"%1.2f%%\", cmap='GnBu')\n",
    "plt.legend()\n",
    "plt.show()"
   ]
  },
  {
   "cell_type": "code",
   "execution_count": null,
   "id": "0b7c40ad-1df0-43f0-bc9a-09f3ff83c3d4",
   "metadata": {},
   "outputs": [],
   "source": [
    "df['Department'].value_counts().plot.pie(wedgeprops={'edgecolor': 'black', 'linestyle':'dashed'}, figsize=(16, 6), autopct=\"%1.2f%%\", cmap='GnBu')\n",
    "plt.legend()\n",
    "plt.show()"
   ]
  },
  {
   "cell_type": "markdown",
   "id": "dff322f5-452b-46e6-b0ce-52cb37c41ee5",
   "metadata": {},
   "source": [
    "## **How attrition is related to other columns**"
   ]
  },
  {
   "cell_type": "code",
   "execution_count": null,
   "id": "df3c1421-54d1-4fe3-bd46-bf563673ad0e",
   "metadata": {},
   "outputs": [],
   "source": [
    "business_travel = df.groupby(['BusinessTravel', 'Attrition']).size()\n",
    "business_travel = business_travel.unstack().sort_values(by='No', ascending=True)\n",
    "business_travel.plot.bar(edgecolor='black', figsize=(16, 6), cmap='GnBu')\n",
    "plt.show()"
   ]
  },
  {
   "cell_type": "markdown",
   "id": "132961df-6220-4fc2-991b-19f5dc06847a",
   "metadata": {},
   "source": [
    "`Most employees who travel rarely don't leave the company. From the plot we can tell, sending employees on business travels or not doesn't really make much of a difference and doesn't have a significant effect on attrition.`"
   ]
  },
  {
   "cell_type": "code",
   "execution_count": null,
   "id": "c7b2654f-e2d6-4e1d-86b7-ba8354450152",
   "metadata": {},
   "outputs": [],
   "source": [
    "mapping_env_satisfaction = {\n",
    "    1: 'low',\n",
    "    2: 'medium',\n",
    "    3: 'high',\n",
    "    4: 'very high'\n",
    "}\n",
    "\n",
    "environment_satisfaction = df['EnvironmentSatisfaction']\n",
    "\n",
    "df['EnvironmentSatisfaction_category'] = environment_satisfaction.replace(mapping_env_satisfaction)"
   ]
  },
  {
   "cell_type": "code",
   "execution_count": null,
   "id": "7c2780cf-9570-42f7-bd22-8a19f586dd28",
   "metadata": {},
   "outputs": [],
   "source": [
    "environment_satisfaction = df.groupby(['EnvironmentSatisfaction_category', 'Attrition']).size()\n",
    "environment_satisfaction = environment_satisfaction.unstack().sort_values(by='No', ascending=True)\n",
    "environment_satisfaction.plot.bar(edgecolor='black', figsize=(16, 6), ylim=(0, 800), cmap='GnBu')\n",
    "plt.title('Environment Satisfaction')\n",
    "plt.show()"
   ]
  },
  {
   "cell_type": "markdown",
   "id": "ac56716f-fad1-4dbc-b203-53ae5bcb84f7",
   "metadata": {},
   "source": [
    "`All the employees seems happy with their environment`"
   ]
  },
  {
   "cell_type": "code",
   "execution_count": null,
   "id": "254d2b83-b5b1-48fc-9e2f-f2287143ad6b",
   "metadata": {},
   "outputs": [],
   "source": [
    "df.groupby(['Department', 'Attrition']).size().unstack()"
   ]
  },
  {
   "cell_type": "code",
   "execution_count": null,
   "id": "3bfc472b-4385-4359-b73c-f82bc04ee1a7",
   "metadata": {},
   "outputs": [],
   "source": [
    "department = df.groupby(['Department', 'Attrition']).size()\n",
    "department = department.unstack().sort_values(by='No', ascending=True)\n",
    "department.plot.bar(edgecolor='black', figsize=(16, 6), cmap='GnBu')\n",
    "plt.title('Department')\n",
    "plt.show()"
   ]
  },
  {
   "cell_type": "markdown",
   "id": "5cdb8fce-a763-4ef7-a19f-b965fdbd147e",
   "metadata": {},
   "source": [
    "`More employee from Research & Development Department are leaving.`"
   ]
  },
  {
   "cell_type": "markdown",
   "id": "4f2734a5-71ae-40b8-a419-7f498ac1692b",
   "metadata": {},
   "source": [
    "`But if we differentiate on the percentage then Human Resources Department has most attrition`"
   ]
  },
  {
   "cell_type": "code",
   "execution_count": null,
   "id": "039dd703-76cc-4286-be92-34614dcf3f11",
   "metadata": {},
   "outputs": [],
   "source": [
    "education = df.groupby(['Education', 'Attrition']).size()\n",
    "education = education.unstack().sort_values(by='No', ascending=True)\n",
    "education.plot.bar(edgecolor='black', figsize=(16, 6), cmap='GnBu')\n",
    "plt.title('Education')\n",
    "plt.show()"
   ]
  },
  {
   "cell_type": "markdown",
   "id": "7253be23-62ac-474f-8c7a-c72dc1acdb1e",
   "metadata": {},
   "source": [
    "`Education Dosen't effect `"
   ]
  },
  {
   "cell_type": "code",
   "execution_count": null,
   "id": "1d336806-70d3-4c0c-8df7-6663989aa021",
   "metadata": {},
   "outputs": [],
   "source": [
    "education_field = df.groupby(['EducationField', 'Attrition']).size()\n",
    "education_field = education_field.unstack()\n",
    "education_field"
   ]
  },
  {
   "cell_type": "code",
   "execution_count": null,
   "id": "cdc9d2be-24c1-4876-b5e5-c8ef26697656",
   "metadata": {},
   "outputs": [],
   "source": [
    "education_field = education_field.sort_values(by='No', ascending=True)\n",
    "education_field.plot.bar(edgecolor='black', figsize=(16, 6), cmap='GnBu')\n",
    "plt.title('Education Field')\n",
    "plt.show()"
   ]
  },
  {
   "cell_type": "markdown",
   "id": "7564223a-fe6a-4e27-8548-4ba32a11f72f",
   "metadata": {},
   "source": [
    "`Employees who have Human Resources as there Education Background have 35% chance of leaving the organization`"
   ]
  },
  {
   "cell_type": "markdown",
   "id": "f3343241-4c17-44ea-85f1-4e837c38b9f5",
   "metadata": {},
   "source": [
    "`and the employee from Medical, Life Sciences or Other have less attrition.`"
   ]
  },
  {
   "cell_type": "code",
   "execution_count": null,
   "id": "b445b9be-448a-4c8d-8d3d-e37cbcc04d2b",
   "metadata": {},
   "outputs": [],
   "source": [
    "jobrole = df.groupby(['JobRole', 'Attrition']).size().unstack()\n",
    "jobrole"
   ]
  },
  {
   "cell_type": "code",
   "execution_count": null,
   "id": "7fa25e3f-742f-42d3-95a6-d5fd756a3674",
   "metadata": {},
   "outputs": [],
   "source": [
    "jobrole = jobrole.sort_values(by='No', ascending=True)\n",
    "jobrole.plot.bar(edgecolor='black', figsize=(16, 6), cmap='GnBu')\n",
    "plt.title('Job Role')\n",
    "plt.show()"
   ]
  },
  {
   "cell_type": "markdown",
   "id": "69f73604-6ebe-4521-bf5f-0efc0b2b8aad",
   "metadata": {},
   "source": [
    "`The employee those who work as a Research Director have very less or no attrition.`"
   ]
  },
  {
   "cell_type": "markdown",
   "id": "fddcbbeb-0a75-4e65-8505-9cc961cb63b3",
   "metadata": {},
   "source": [
    "`and laboratory Technician have highest attrition.`"
   ]
  },
  {
   "cell_type": "markdown",
   "id": "e3343e01-8f5a-4e3b-95c7-de1879feeac5",
   "metadata": {},
   "source": [
    "`If we consider percentage wise then Sales Representative Job has the highest attrition followed by Human Resources Job.`"
   ]
  },
  {
   "cell_type": "code",
   "execution_count": null,
   "id": "5c4bce27-adb5-47b9-9b89-8284736094e4",
   "metadata": {},
   "outputs": [],
   "source": [
    "overtime = df.groupby(['OverTime', 'Attrition']).size().unstack()\n",
    "overtime"
   ]
  },
  {
   "cell_type": "code",
   "execution_count": null,
   "id": "5bf767a2-5015-465d-8ac6-eb96aff74429",
   "metadata": {},
   "outputs": [],
   "source": [
    "overtime = overtime.sort_values(by='No', ascending=True)\n",
    "overtime.plot.bar(edgecolor='black', figsize=(16, 6), cmap='GnBu')\n",
    "plt.title('Over Time')\n",
    "plt.show()"
   ]
  },
  {
   "cell_type": "markdown",
   "id": "0e47aff7-6f3b-442a-955a-543dca1f1665",
   "metadata": {},
   "source": [
    "`There is 44% chance of attrition if the employee works over time.`"
   ]
  },
  {
   "cell_type": "markdown",
   "id": "05e6ff57-6bfb-492d-8b8e-b9fd6b59c839",
   "metadata": {},
   "source": [
    "`It's better to not ask employee to work over time.`"
   ]
  },
  {
   "cell_type": "code",
   "execution_count": null,
   "id": "777ac0f9-f9e9-4a4c-a4bd-8438fcdea85f",
   "metadata": {},
   "outputs": [],
   "source": [
    "# for i in df.columns:\n",
    "#     col = df.groupby([i, 'Attrition']).size()\n",
    "#     col = col.unstack(fill_value=0).sort_values(by='No', ascending=True)\n",
    "#     col.plot.bar(edgecolor='black', figsize=(16, 6))\n",
    "#     plt.title(i)\n",
    "#     plt.show()"
   ]
  },
  {
   "cell_type": "markdown",
   "id": "f7c792f0-4e85-4c9e-9d57-79267f13f97e",
   "metadata": {},
   "source": [
    "# Model Building"
   ]
  },
  {
   "cell_type": "markdown",
   "id": "b8bf31dc-1072-494b-a893-406ec66d6f83",
   "metadata": {},
   "source": [
    "We are using the following algorithms for model building\n",
    "- [x] Random Forest Regressor\n",
    "- [x] SVM \n",
    "- [x] Logistic Regression\n",
    "- [x] AdaBoost\n",
    "- [x] XgBoost\n",
    "- [ ] Neural Networks\n",
    "\n",
    "## Columns to drop\n",
    "- EnvironmentSatisfaction_category:- We added this column for EDA\n",
    "- Over18: All the employees are over 18 so doesn't matter whether to include it or not.\n",
    "- StandardHours:- StandardHours doesn't really affect the attrition \n",
    "- EmployeeNumber:- It's an unique identifier for a employee \n",
    "- EmployeeCount:- EmployeeCount doesn't affect the attrition <br/>\n",
    "**Neural Network DNN** <br />\n",
    "**Feature Selection** <br />\n",
    "**Pre Processing** <br />"
   ]
  },
  {
   "cell_type": "code",
   "execution_count": null,
   "id": "4f384eba-3c22-4b32-b936-31117cd0e04f",
   "metadata": {},
   "outputs": [],
   "source": [
    "from sklearn.model_selection import train_test_split \n",
    "from sklearn.preprocessing import LabelEncoder\n",
    "from sklearn.ensemble import RandomForestClassifier\n",
    "from sklearn.metrics import confusion_matrix, accuracy_score, classification_report, roc_auc_score, mean_squared_error, r2_score, roc_curve\n",
    "from sklearn.model_selection import GridSearchCV"
   ]
  },
  {
   "cell_type": "code",
   "execution_count": null,
   "id": "f730d4e9-b930-4012-bf72-f9f5cdcd212a",
   "metadata": {},
   "outputs": [],
   "source": [
    "label_encoder = LabelEncoder()"
   ]
  },
  {
   "cell_type": "code",
   "execution_count": null,
   "id": "8bf5f70d-9a63-4f12-81cf-8a6a446a7cb9",
   "metadata": {},
   "outputs": [],
   "source": [
    "model_df = df.drop(['Attrition', 'EmployeeCount', 'Over18', 'StandardHours', 'EmployeeNumber'], axis = 1)\n",
    "Y = label_encoder.fit_transform(df.loc[:, 'Attrition'])"
   ]
  },
  {
   "cell_type": "code",
   "execution_count": null,
   "id": "5f9af7d4-d3c4-4d12-9472-e94a7d9406d7",
   "metadata": {},
   "outputs": [],
   "source": [
    "x_categorical = model_df.select_dtypes(include=['object']).apply(label_encoder.fit_transform)\n",
    "x_numerical = model_df.select_dtypes(exclude=['object'])\n",
    "x = pd.concat([x_numerical, x_categorical], axis=1)"
   ]
  },
  {
   "cell_type": "markdown",
   "id": "db0fde45-54bf-4fa8-996c-036097f465fe",
   "metadata": {},
   "source": [
    "### **Train Test Split**"
   ]
  },
  {
   "cell_type": "code",
   "execution_count": null,
   "id": "b4ce28ce-b923-4790-b930-7c7657ea5412",
   "metadata": {},
   "outputs": [],
   "source": [
    "X_train, X_test, y_train, y_test = train_test_split(X_preprocessed, Y, test_size=0.3)"
   ]
  },
  {
   "cell_type": "code",
   "execution_count": null,
   "id": "6c86b328-3872-48e8-81e7-c8921fdbabfd",
   "metadata": {},
   "outputs": [],
   "source": [
    "def plot_confusion_matrix(y_train, y_train_pred, y_test, y_test_pred):\n",
    "    fig, (ax1, ax2) = plt.subplots(1, 2, figsize=(16, 5))\n",
    "    sns.heatmap(confusion_matrix(y_train, y_train_pred), annot=True, ax=ax1, cmap='GnBu', fmt='g')\n",
    "    sns.heatmap(confusion_matrix(y_test, y_test_pred), annot=True, ax= ax2, cmap='GnBu', fmt='g')\n",
    "    \n",
    "    ax1.set_title('Training Confusion Matrix')\n",
    "    ax2.set_title('Testing Confusion Matrix')\n",
    "    \n",
    "    plt.xlabel('Predicted')\n",
    "    plt.ylabel('Actual')\n",
    "    plt.show()"
   ]
  },
  {
   "cell_type": "code",
   "execution_count": null,
   "id": "d4eeec0d-fd74-4a9d-8440-b9985a86de7a",
   "metadata": {},
   "outputs": [],
   "source": [
    "def get_accuracy_score(model, X_train, X_test, y_train, y_test):\n",
    "    y_train_pred = model.predict(X_train)\n",
    "    y_test_pred = model.predict(X_test)\n",
    "    print(\"=\"*25, end='')\n",
    "    print(\"Training Accuracy\", end='')\n",
    "    print(\"=\"*25)\n",
    "    clf_report = pd.DataFrame(classification_report(y_train, y_train_pred, output_dict=True))\n",
    "    print(clf_report)\n",
    "    print(f\"ACCURACY SCORE: {accuracy_score(y_train, y_train_pred):.4f}\")\n",
    "    print(\"=\"*25, end='')\n",
    "    print(\"Testing Accuracy\", end='')\n",
    "    print(\"=\"*25)\n",
    "    clf_report = pd.DataFrame(classification_report(y_test, y_test_pred, output_dict=True))\n",
    "    print(clf_report)\n",
    "    print(f\"ACCURACY SCORE: {accuracy_score(y_test, y_test_pred):.4f}\")\n",
    "    print(\"=\"*50)\n",
    "    plot_confusion_matrix(y_train, y_train_pred, y_test, y_test_pred)"
   ]
  },
  {
   "cell_type": "markdown",
   "id": "fef8d0b1-f4c5-4f84-84a3-d87a6613c946",
   "metadata": {},
   "source": [
    "## Random Forest Regressor"
   ]
  },
  {
   "cell_type": "code",
   "execution_count": null,
   "id": "dd8a65ff-8404-4202-8f6d-32aef7e1eaab",
   "metadata": {},
   "outputs": [],
   "source": [
    "random_clf = RandomForestClassifier(n_estimators=10, random_state=0, oob_score=True)\n",
    "random_clf.fit(X_train, y_train)"
   ]
  },
  {
   "cell_type": "code",
   "execution_count": null,
   "id": "bf32d767-dd5e-4724-bdd3-e644512a6b28",
   "metadata": {},
   "outputs": [],
   "source": [
    "get_accuracy_score(random_clf, X_train, X_test, y_train, y_test)"
   ]
  },
  {
   "cell_type": "markdown",
   "id": "b79459cd-8a9c-4788-83d4-7aeebfd48ff0",
   "metadata": {},
   "source": [
    "### Hyperparameter Tuning"
   ]
  },
  {
   "cell_type": "code",
   "execution_count": null,
   "id": "e6d79fd0-7652-4828-ae2f-f0ab34f5fe2d",
   "metadata": {},
   "outputs": [],
   "source": [
    "n_estimators = [20, 60, 100, 120]\n",
    "max_features = [0.2, 0.6, 1.0]\n",
    "max_depth = [2, 8, None] # not imp\n",
    "max_samples = [0.5, 0.75, 1.0]\n",
    "bootstrap = [True, False, None]\n",
    "oob=[True, False, None]"
   ]
  },
  {
   "cell_type": "code",
   "execution_count": null,
   "id": "2b2fd6d3-ef17-4ed2-bd2b-b1143575f5e3",
   "metadata": {},
   "outputs": [],
   "source": [
    "param_grid = {'n_estimators': n_estimators, \n",
    "              'max_features': max_features, \n",
    "              'max_depth': max_depth, \n",
    "              'max_samples' : max_samples, \n",
    "              'bootstrap': bootstrap,\n",
    "              'oob_score': oob\n",
    "             }"
   ]
  },
  {
   "cell_type": "code",
   "execution_count": null,
   "id": "2cea5fb3-c798-4ad2-ba31-ae6b60dac72e",
   "metadata": {},
   "outputs": [],
   "source": [
    "rf_grid = GridSearchCV(estimator=RandomForestClassifier(), param_grid=param_grid, cv=5, verbose=2, n_jobs=-1)"
   ]
  },
  {
   "cell_type": "code",
   "execution_count": null,
   "id": "aa64ed50-d2bd-4c2e-84b1-ae93b89a26c9",
   "metadata": {
    "scrolled": true
   },
   "outputs": [],
   "source": [
    "rf_grid.fit(X_train, y_train)"
   ]
  },
  {
   "cell_type": "code",
   "execution_count": null,
   "id": "a041467d-7775-443e-aa63-9abdbf21b00a",
   "metadata": {},
   "outputs": [],
   "source": [
    "rf = RandomForestClassifier(**rf_grid.best_params_)\n",
    "rf.fit(X_train, y_train)"
   ]
  },
  {
   "cell_type": "code",
   "execution_count": null,
   "id": "d6c3e82e-05fe-48f3-b883-d7b050a01bc1",
   "metadata": {},
   "outputs": [],
   "source": [
    "get_accuracy_score(rf, X_train, X_test, y_train, y_test)"
   ]
  },
  {
   "cell_type": "markdown",
   "id": "871de6a3-42c8-42e6-9d16-6618ccd525f0",
   "metadata": {},
   "source": [
    "## LOGISTIC REGRESSION"
   ]
  },
  {
   "cell_type": "code",
   "execution_count": null,
   "id": "bc2f8761-bdfa-4007-97f2-8d50a05492a9",
   "metadata": {},
   "outputs": [],
   "source": [
    "from sklearn.linear_model import LogisticRegression"
   ]
  },
  {
   "cell_type": "code",
   "execution_count": null,
   "id": "8c9e44bd-f119-4894-a6cc-9fc65021d1c3",
   "metadata": {},
   "outputs": [],
   "source": [
    "lr = LogisticRegression(random_state=0)"
   ]
  },
  {
   "cell_type": "code",
   "execution_count": null,
   "id": "4c951398-e655-4577-8936-c557ba2ee8fd",
   "metadata": {},
   "outputs": [],
   "source": [
    "lr.fit(X_train, y_train)"
   ]
  },
  {
   "cell_type": "code",
   "execution_count": null,
   "id": "3c60c5bd-0054-4c5c-b556-2394e7c4eb01",
   "metadata": {},
   "outputs": [],
   "source": [
    "get_accuracy_score(lr, X_train, X_test, y_train, y_test)"
   ]
  },
  {
   "cell_type": "markdown",
   "id": "53af329e-6141-4e32-b411-d178e0f85fe7",
   "metadata": {},
   "source": [
    "### Hyperparameter tuning"
   ]
  },
  {
   "cell_type": "code",
   "execution_count": null,
   "id": "c3dc0d5d-5025-4aa0-a920-91d50970c03c",
   "metadata": {},
   "outputs": [],
   "source": [
    "param_grid = {\n",
    "    'penalty': ['l1', 'l2', 'elasticnet'],\n",
    "    'fit_intercept': [True, False, None]\n",
    "}"
   ]
  },
  {
   "cell_type": "code",
   "execution_count": null,
   "id": "30398fbc-e54d-47c7-bc99-be900c75bf37",
   "metadata": {},
   "outputs": [],
   "source": [
    "lr = LogisticRegression()\n",
    "lr_grid = GridSearchCV(estimator = lr, param_grid=param_grid, cv = 5, n_jobs=-1)"
   ]
  },
  {
   "cell_type": "code",
   "execution_count": null,
   "id": "54966d23-bdb7-4232-824a-7efc55ce6ef3",
   "metadata": {
    "scrolled": true
   },
   "outputs": [],
   "source": [
    "lr_grid.fit(X_train, y_train)"
   ]
  },
  {
   "cell_type": "code",
   "execution_count": null,
   "id": "231c9fe3-426f-426b-b174-1ddce64e0d5d",
   "metadata": {},
   "outputs": [],
   "source": [
    "lr = LogisticRegression(**lr_grid.best_params_)\n",
    "lr.fit(X_train, y_train)"
   ]
  },
  {
   "cell_type": "code",
   "execution_count": null,
   "id": "5e1553e3-328e-4186-a27c-f7cc73e97133",
   "metadata": {},
   "outputs": [],
   "source": [
    "get_accuracy_score(lr, X_train, X_test, y_train, y_test)"
   ]
  },
  {
   "cell_type": "markdown",
   "id": "d6db3f6b-602a-4592-9457-8166d891f1be",
   "metadata": {},
   "source": [
    "## AdaBoost"
   ]
  },
  {
   "cell_type": "code",
   "execution_count": null,
   "id": "98b31534-dfb0-450a-b02c-9689397b4324",
   "metadata": {},
   "outputs": [],
   "source": [
    "from sklearn.ensemble import AdaBoostClassifier"
   ]
  },
  {
   "cell_type": "code",
   "execution_count": null,
   "id": "e20406e0-c540-4f23-8570-c0847b97ee99",
   "metadata": {},
   "outputs": [],
   "source": [
    "ada_clf = AdaBoostClassifier(n_estimators=100, algorithm='SAMME', random_state=0)\n",
    "ada_clf.fit(X_train, y_train)"
   ]
  },
  {
   "cell_type": "code",
   "execution_count": null,
   "id": "ca116328-e383-476f-8695-f1396c4582b3",
   "metadata": {},
   "outputs": [],
   "source": [
    "y_train_pred = ada_clf.predict(X_train)\n",
    "y_test_pred = ada_clf.predict(X_test)"
   ]
  },
  {
   "cell_type": "code",
   "execution_count": null,
   "id": "538a7a03-73b8-401a-bae4-d38b1e847324",
   "metadata": {},
   "outputs": [],
   "source": [
    "get_accuracy_score(ada_clf, X_train, X_test, y_train, y_test)"
   ]
  },
  {
   "cell_type": "markdown",
   "id": "f5d8fc63-3343-4e69-b73a-4277fa676450",
   "metadata": {},
   "source": [
    "### Hyperparameter tuning"
   ]
  },
  {
   "cell_type": "code",
   "execution_count": null,
   "id": "5648b95a-f7b4-4729-8ef3-ca69573f1b66",
   "metadata": {},
   "outputs": [],
   "source": [
    "param_grid = {'learning_rate': [0.0001, 0.001, 0.01, 0.1, 1.0], 'n_estimators': [10, 50, 100, 500]}"
   ]
  },
  {
   "cell_type": "code",
   "execution_count": null,
   "id": "e91f31c9-8ea0-42b0-b2e6-7bcd969cbb3a",
   "metadata": {},
   "outputs": [],
   "source": [
    "ada_clf = AdaBoostClassifier()\n",
    "ada_grid = GridSearchCV(estimator=ada_clf, param_grid=param_grid, cv=5, n_jobs=-1)"
   ]
  },
  {
   "cell_type": "code",
   "execution_count": null,
   "id": "196374eb-94cf-4ec1-86a7-a6088575bedb",
   "metadata": {},
   "outputs": [],
   "source": [
    "ada_grid.fit(X_train, y_train)"
   ]
  },
  {
   "cell_type": "code",
   "execution_count": null,
   "id": "b932285e-8070-490f-93ec-24e75200d8e3",
   "metadata": {},
   "outputs": [],
   "source": [
    "ada_clf = AdaBoostClassifier(**ada_grid.best_params_)\n",
    "ada_clf.fit(X_train, y_train)"
   ]
  },
  {
   "cell_type": "code",
   "execution_count": null,
   "id": "ad006769-fdf9-416d-9d22-adf5491af2b0",
   "metadata": {},
   "outputs": [],
   "source": [
    "get_accuracy_score(ada_clf, X_train, X_test, y_train, y_test)"
   ]
  },
  {
   "cell_type": "markdown",
   "id": "fa1e0bcb-27c9-4397-9adb-376fa6d44116",
   "metadata": {},
   "source": [
    "## SVM"
   ]
  },
  {
   "cell_type": "code",
   "execution_count": null,
   "id": "8dd0c62d-5c24-4895-a4f8-7eb033184595",
   "metadata": {},
   "outputs": [],
   "source": [
    "from sklearn.svm import SVC"
   ]
  },
  {
   "cell_type": "code",
   "execution_count": null,
   "id": "3d1324c5-1eb9-4896-9f10-0b32559722bb",
   "metadata": {},
   "outputs": [],
   "source": [
    "svc_clf = SVC(kernel='rbf', random_state=42)"
   ]
  },
  {
   "cell_type": "code",
   "execution_count": null,
   "id": "d0665bf0-0a7c-4c62-ad5a-d07cb554ba78",
   "metadata": {},
   "outputs": [],
   "source": [
    "svc_clf.fit(X_train, y_train)"
   ]
  },
  {
   "cell_type": "code",
   "execution_count": null,
   "id": "7ea76ff6-8533-4e83-a75f-47b1e7158e85",
   "metadata": {},
   "outputs": [],
   "source": [
    "get_accuracy_score(svc_clf, X_train, X_test, y_train, y_test)"
   ]
  },
  {
   "cell_type": "markdown",
   "id": "f28c51f4-d71a-4207-91e5-57dd1a5968d8",
   "metadata": {},
   "source": [
    "## XGBoost"
   ]
  },
  {
   "cell_type": "code",
   "execution_count": null,
   "id": "1eedeb61-e7b3-4cdc-a4ad-d881c44063d1",
   "metadata": {},
   "outputs": [],
   "source": [
    "import xgboost as xgb"
   ]
  },
  {
   "cell_type": "code",
   "execution_count": null,
   "id": "16f02adb-efc3-428e-8928-9c3b6d94a746",
   "metadata": {},
   "outputs": [],
   "source": [
    "xgb_clf = xgb.XGBClassifier(objective='binary:logistic')"
   ]
  },
  {
   "cell_type": "code",
   "execution_count": null,
   "id": "7312116b-bc39-4cd2-aafb-6ca20310645c",
   "metadata": {},
   "outputs": [],
   "source": [
    "xgb_clf.fit(X_train, y_train)"
   ]
  },
  {
   "cell_type": "code",
   "execution_count": null,
   "id": "60589e1e-9b67-4fac-b54f-c417aabcf36d",
   "metadata": {},
   "outputs": [],
   "source": [
    "get_accuracy_score(xgb_clf, X_train, X_test, y_train, y_test)"
   ]
  },
  {
   "cell_type": "markdown",
   "id": "4d0ebe4d-ddfc-4422-90c7-14f3902bb864",
   "metadata": {},
   "source": [
    "## Comparing Each Algorithm Using ROC"
   ]
  },
  {
   "cell_type": "code",
   "execution_count": null,
   "id": "37e828b5-c04b-4d09-b847-36b1742012be",
   "metadata": {
    "scrolled": true
   },
   "outputs": [],
   "source": [
    "models = {'XGBoost':xgb_clf, 'AdaBoost':ada_clf, 'Logistic Regessor': lr, 'Random Forest': rf, 'Support Vector Machine': svc_clf}\n",
    "\n",
    "for k, v in models.items():\n",
    "    try:\n",
    "        y_pred_prob = v.predict_proba(X_test)[:, 1]\n",
    "    except:\n",
    "        y_pred_prob = v.decision_function(X_test)\n",
    "    fpr, tpr, _ = roc_curve(y_test, y_pred_prob)\n",
    "    auc_score = roc_auc_score(y_test, y_pred_prob)\n",
    "    plt.plot(fpr, tpr, label=f'{k} (AUC = {auc_score:.3f})')\n",
    "    \n",
    "plt.plot([0, 1], [0, 1], 'k--')\n",
    "plt.legend()\n",
    "plt.savefig('comparision.png')"
   ]
  },
  {
   "cell_type": "markdown",
   "id": "13e5158f-ba0b-4f9f-94b0-1c11f5af131f",
   "metadata": {
    "jp-MarkdownHeadingCollapsed": true
   },
   "source": [
    "# Work In Progress"
   ]
  },
  {
   "cell_type": "code",
   "execution_count": null,
   "id": "855f868c-2e3b-463c-86ee-998bb38dd0da",
   "metadata": {},
   "outputs": [],
   "source": [
    "label_encoder = LabelEncoder()\n",
    "df[\"Attrition\"] = label_encoder.fit_transform(df.Attrition)"
   ]
  },
  {
   "cell_type": "code",
   "execution_count": null,
   "id": "c3b38b4b-1f72-4405-bc27-092f7a7c3039",
   "metadata": {},
   "outputs": [],
   "source": [
    "dummy_col = [column for column in df.drop('Attrition', axis=1).columns if df[column].nunique() < 20]\n",
    "data = pd.get_dummies(df, columns=dummy_col, drop_first=True, dtype='uint8')"
   ]
  },
  {
   "cell_type": "code",
   "execution_count": null,
   "id": "c774da35-457c-4da4-870f-4715c4c21ec5",
   "metadata": {},
   "outputs": [],
   "source": [
    "data = data.T.drop_duplicates()\n",
    "data = data.T\n",
    "\n",
    "data.drop_duplicates(inplace=True)\n",
    "\n",
    "data.drop('Attrition', axis=1).corrwith(data.Attrition).sort_values().plot(kind='barh', figsize=(10, 30))\n",
    "# df.drop('Attrition', axis=1).corrwith(df.Attrition).sort_values().plot(kind='barh', figsize=(10, 30))"
   ]
  },
  {
   "cell_type": "code",
   "execution_count": null,
   "id": "4dac33e2-4ef5-493c-9d68-b31a6777e1db",
   "metadata": {},
   "outputs": [],
   "source": [
    "features_selection = data.drop('Attrition', axis=1).corrwith(data.Attrition).sort_values()\n",
    "model_df = features_selection[np.abs(features_selection) > 0.02].index\n",
    "len(model_df)"
   ]
  },
  {
   "cell_type": "code",
   "execution_count": null,
   "id": "ea1dc277-2233-461f-8ca6-9ca11cb4b61c",
   "metadata": {},
   "outputs": [],
   "source": [
    "x_categorical = df.select_dtypes(include=['object']).apply(label_encoder.fit_transform)\n",
    "x_numerical = df.select_dtypes(exclude=['object'])\n",
    "new_df_ = pd.concat([x_numerical, x_categorical], axis=1)"
   ]
  },
  {
   "cell_type": "code",
   "execution_count": null,
   "id": "db80765d-5d1a-45b3-9d62-477bea653ef0",
   "metadata": {},
   "outputs": [],
   "source": [
    "num_cols = len(x_numerical.columns)\n",
    "num_rows = (num_cols + 2) // 3  \n",
    "num_cols_per_row = min(3, num_cols)\n",
    "fig, axes = plt.subplots(nrows=num_rows, ncols=num_cols_per_row, figsize=(15, (num_rows * 5)))\n",
    "col_counter = 0\n",
    "for i in range(num_rows):\n",
    "    for j in range(num_cols_per_row):\n",
    "        if col_counter < num_cols:\n",
    "            col_name = x_numerical.columns[col_counter]\n",
    "            x_numerical[col_name].plot.box(ax=axes[i, j])\n",
    "            axes[i, j].set_title(col_name)\n",
    "            col_counter += 1\n",
    "        else:\n",
    "            axes[i, j].axis('off') \n",
    "\n",
    "\n",
    "plt.tight_layout()\n",
    "plt.show()"
   ]
  },
  {
   "cell_type": "code",
   "execution_count": null,
   "id": "c8b1a9fb-73a1-4f87-a6d3-4f1088e5ed15",
   "metadata": {},
   "outputs": [],
   "source": [
    "1470"
   ]
  },
  {
   "cell_type": "code",
   "execution_count": null,
   "id": "15310c77-1cfb-418d-900b-a990e41f2b73",
   "metadata": {},
   "outputs": [],
   "source": []
  }
 ],
 "metadata": {
  "kernelspec": {
   "display_name": "Python 3 (ipykernel)",
   "language": "python",
   "name": "python3"
  },
  "language_info": {
   "codemirror_mode": {
    "name": "ipython",
    "version": 3
   },
   "file_extension": ".py",
   "mimetype": "text/x-python",
   "name": "python",
   "nbconvert_exporter": "python",
   "pygments_lexer": "ipython3",
   "version": "3.11.5"
  }
 },
 "nbformat": 4,
 "nbformat_minor": 5
}
